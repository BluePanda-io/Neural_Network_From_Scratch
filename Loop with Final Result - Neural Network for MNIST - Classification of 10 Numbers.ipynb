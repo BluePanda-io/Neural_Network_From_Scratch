{
 "cells": [
  {
   "cell_type": "markdown",
   "metadata": {},
   "source": [
    "# Neural Network for MNIST Data Set\n",
    "\n",
    "#### Classify 10 Different Numbers without TensorFlow\n",
    "In this NoteBook we will create a nerual network that can classify HandWriten Images in 10 different categories, first we will start by importing the libraries for using MNIST\n",
    "\n",
    "MNIST is a Data set that is udes specifically for people that start right now with Machine Learning and Neural Network and want to build something without having to worry about data sets regularization of the data and in general the input of the algorithm\n",
    "\n",
    "This dataset will provide 6000 images all of them with size $[28,28]$ "
   ]
  },
  {
   "cell_type": "markdown",
   "metadata": {},
   "source": [
    "## Importing the MNIST DataSet"
   ]
  },
  {
   "cell_type": "code",
   "execution_count": 51,
   "metadata": {
    "collapsed": true
   },
   "outputs": [],
   "source": [
    "import mnist\n",
    "import scipy.misc\n",
    "import matplotlib.pyplot as plt\n",
    "import matplotlib.image as mpimg\n",
    "\n",
    "import numpy as np"
   ]
  },
  {
   "cell_type": "markdown",
   "metadata": {},
   "source": [
    "The next step is to use *mnist* in order to save in different variables the images and labels of the training and test sets."
   ]
  },
  {
   "cell_type": "code",
   "execution_count": 52,
   "metadata": {
    "collapsed": true
   },
   "outputs": [],
   "source": [
    "train_images = mnist.train_images()\n",
    "train_labels = mnist.train_labels()\n",
    "\n",
    "test_images = mnist.test_images()\n",
    "test_labels = mnist.test_labels()"
   ]
  },
  {
   "cell_type": "code",
   "execution_count": 53,
   "metadata": {},
   "outputs": [
    {
     "name": "stdout",
     "output_type": "stream",
     "text": [
      "(60000, 28, 28)\n",
      "(10000, 28, 28)\n"
     ]
    }
   ],
   "source": [
    "print(train_images.shape)\n",
    "print(test_images.shape)"
   ]
  },
  {
   "cell_type": "markdown",
   "metadata": {},
   "source": [
    "You can show the images just by writing ***plt.imshow*** and then use the specific image with this command line ***train_images[5,:,:]***\n",
    "\n",
    "Don't forget to show the results just by writing ***plt.show()***"
   ]
  },
  {
   "cell_type": "code",
   "execution_count": 54,
   "metadata": {},
   "outputs": [
    {
     "data": {
      "image/png": "[encoded data removed]",
      "text/plain": [
       "<matplotlib.figure.Figure at 0x20901d86978>"
      ]
     },
     "metadata": {},
     "output_type": "display_data"
    },
    {
     "name": "stdout",
     "output_type": "stream",
     "text": [
      " The number in this image is  2\n"
     ]
    }
   ],
   "source": [
    "Index = 5\n",
    "\n",
    "imgplot = plt.imshow(train_images[Index,:,:], cmap = 'gray')\n",
    "plt.show()\n",
    "\n",
    "print(\" The number in this image is \", train_labels[Index])"
   ]
  },
  {
   "cell_type": "markdown",
   "metadata": {},
   "source": [
    "It is really important to transform every image into a vector with $28*28 = 784$ features, this enable as to use this images - pixels as idividuals features that will be used as input in the Nueral Network"
   ]
  },
  {
   "cell_type": "code",
   "execution_count": 55,
   "metadata": {},
   "outputs": [
    {
     "name": "stdout",
     "output_type": "stream",
     "text": [
      "(60000, 28, 28)\n",
      "(784, 60000)\n"
     ]
    }
   ],
   "source": [
    "print(train_images.shape)\n",
    "num_Imag = train_images.shape[0]\n",
    "nH = train_images.shape[1]\n",
    "nW = train_images.shape[2]\n",
    "Tr_Im = train_images.reshape((num_Imag,nH*nW))\n",
    "Tr_Im = np.transpose(Tr_Im)\n",
    "Tr_lab = train_labels\n",
    "print(Tr_Im.shape)\n",
    "\n",
    "#=============Parameters===================\n",
    "Batch = 500\n",
    "m=Batch\n",
    "lambda1 = 1\n",
    "#=============Parameters==================="
   ]
  },
  {
   "cell_type": "markdown",
   "metadata": {},
   "source": [
    "## We need to Change Y ( train_labels) from Hot-Vector to Binary representation \n",
    "\n",
    "Example of a Hot Vector:\n",
    "$$Y = [0,2,1,3]$$\n",
    "Example of the Binary representation\n",
    "$$ Y = \n",
    "\\begin{bmatrix}\n",
    "    1&0&0&0\\\\\n",
    "    0&0&1&0\\\\\n",
    "    0&1&0&0\\\\\n",
    "    0&0&0&1\\\\\n",
    "  \\end{bmatrix} $$"
   ]
  },
  {
   "cell_type": "code",
   "execution_count": 56,
   "metadata": {
    "collapsed": true
   },
   "outputs": [],
   "source": [
    "def HotVector(targets,n_labels):\n",
    "    Ytr = np.zeros((targets.shape[0], n_labels)) #empty one-hot matrix\n",
    "    Ytr[np.arange(targets.shape[0]), targets] = 1 #set target idx to 1\n",
    "\n",
    "    Ytr=np.transpose(Ytr)\n",
    "\n",
    "    print(Ytr[:,0:5]) # We will show only the first 5 results\n",
    "\n",
    "    print(Ytr.shape)\n",
    "    return Ytr"
   ]
  },
  {
   "cell_type": "code",
   "execution_count": 57,
   "metadata": {},
   "outputs": [
    {
     "name": "stdout",
     "output_type": "stream",
     "text": [
      "[5 0 4 1 9]\n",
      "(60000,)\n",
      "[[ 0.  1.  0.  0.  0.]\n",
      " [ 0.  0.  0.  1.  0.]\n",
      " [ 0.  0.  0.  0.  0.]\n",
      " [ 0.  0.  0.  0.  0.]\n",
      " [ 0.  0.  1.  0.  0.]\n",
      " [ 1.  0.  0.  0.  0.]\n",
      " [ 0.  0.  0.  0.  0.]\n",
      " [ 0.  0.  0.  0.  0.]\n",
      " [ 0.  0.  0.  0.  0.]\n",
      " [ 0.  0.  0.  0.  1.]]\n",
      "(10, 60000)\n"
     ]
    }
   ],
   "source": [
    "n_labels = 10 # How many labels we have (10 different numbers)\n",
    "\n",
    "\n",
    "targets = train_labels\n",
    "print(targets[0:5]) # We will show only the first 5 results\n",
    "print(targets.shape)\n",
    "Ytr = HotVector(targets,n_labels)\n"
   ]
  },
  {
   "cell_type": "markdown",
   "metadata": {},
   "source": [
    "### Activation Function - Sigmoid \n",
    "It is really important to apply non-linearity (or else activation function) to the result *Z*, this is happening for several reasons but the important part is what activation function will be used\n",
    "Two classical ones are Sigmoid and ReLU and in this particular example will be used the Sigmoid function\n",
    "\n",
    "$$ a = \\frac{1}{1+\\exp^{-z}}$$\n",
    "<img src = \"img/Sigmoid.png\" style=\"width:350;height:250px;\">\n",
    "\n"
   ]
  },
  {
   "cell_type": "code",
   "execution_count": 58,
   "metadata": {
    "collapsed": true
   },
   "outputs": [],
   "source": [
    "def sigmoid(z):\n",
    "    s = 1 / (1 + np.exp(-z))\n",
    "    return s"
   ]
  },
  {
   "cell_type": "markdown",
   "metadata": {},
   "source": [
    "# Transfer Data from a Layer to the Next one\n",
    "\n",
    "You need to multiply two arrays, *X*, *W* and then add the bias *b* with broadcasting in every input image\n",
    "\n",
    "$$Z = W*X + b$$\n",
    "\n",
    "\\begin{equation*}\n",
    "Z = \n",
    "   \\begin{bmatrix}\n",
    "    w_{00} & w_{10} & w_{20} & w_{30} & \\dotsc & w_{m0} \\\\\n",
    "    w_{01}& w_{11} & w_{21} & w_{31} & \\dotsc & w_{m1}\\\\\n",
    "    \\vdots & \\vdots & \\vdots & \\vdots & \\vdots & \\vdots\\\\\n",
    "    w_{0n} & w_{1n} & w_{2n} & w_{3n} & \\dotsc & w_{mn} \\\\\n",
    "  \\end{bmatrix}\n",
    "  \\begin{bmatrix}\n",
    "    2&100& \\dotsc & 32\\\\\n",
    "    23&43& \\dotsc & 20\\\\\n",
    "    122&23& \\dotsc & 61\\\\\n",
    "    244&44& \\dotsc & 22\\\\\n",
    "    \\vdots & \\vdots  & \\vdots &  \\vdots \\\\\n",
    "    112&20& \\dotsc & 1 \\\\\n",
    "  \\end{bmatrix}\n",
    "  +\n",
    "  \\begin{bmatrix}\n",
    "    b_{0} \\\\\n",
    "    b_{1} \\\\\n",
    "    \\vdots \\\\\n",
    "    b_{n} \n",
    "  \\end{bmatrix}\n",
    "\\end{equation*}\n",
    "\n",
    "\n",
    "<br><center> $ [60000,20] = [20,784]*[784,60000] + [20,1] $ </center></br>"
   ]
  },
  {
   "cell_type": "code",
   "execution_count": 59,
   "metadata": {
    "collapsed": true
   },
   "outputs": [],
   "source": [
    "def Forward_Propagation(X,W,b):\n",
    "    \n",
    "    Z = np.matmul(W, X) + b\n",
    "    A = sigmoid(Z)\n",
    "    \n",
    "    return A,Z"
   ]
  },
  {
   "cell_type": "markdown",
   "metadata": {},
   "source": [
    "# Forward Propagation with SoftMax Funciton\n",
    "\n",
    "In this particula problem we have 10 different classes which are the 10 different numbers $[0,1, \\dots, 9]$, this means that the last layer have to translated into a propability distribution, with result the sumation of every node in the last layer is equal to 1. \n",
    "\n",
    "More specifically, the last layer will be equal to \n",
    "$$A = \\frac{e^{Z}}{\\sum_{n=1}^{N}{e^{Z_n}}}$$"
   ]
  },
  {
   "cell_type": "code",
   "execution_count": 60,
   "metadata": {
    "collapsed": true
   },
   "outputs": [],
   "source": [
    "def Forward_Propagation_SoftMax(X,W,b):\n",
    "    \n",
    "    Z = np.matmul(W, X) + b\n",
    "    A = np.exp(Z) / np.sum(np.exp(Z), axis=0)\n",
    "    \n",
    "    return A,Z"
   ]
  },
  {
   "cell_type": "markdown",
   "metadata": {},
   "source": [
    "# Loss Function for Multiclass\n",
    "\n",
    "Because we are using Cross entropy loss function   \n",
    "$$C = - \\sum_{k=1}^{m}Y_k*log(A_k^{[L]})$$  \n",
    "\n",
    "If we want to also have regularization we need to use $W$.\n",
    "This means that we will penalize the system for large weights and we can do that with the following change in the Cost Function\n",
    "$$C = - \\sum_{k=1}^{m}Y_k*log(A_k^{[L]})+\\frac{\\lambda}{2m}W^2$$  "
   ]
  },
  {
   "cell_type": "code",
   "execution_count": 68,
   "metadata": {
    "collapsed": true
   },
   "outputs": [],
   "source": [
    "def compute_multiclass_loss(Y, Y_hat,W,b):\n",
    "\n",
    "    L_sum = np.sum(np.multiply(Y, np.log(Y_hat)))\n",
    "    m = Y.shape[1]\n",
    "    L = -(1/m) * L_sum - (lambda1/(2*m))*np.sum (np.dot(W.T,W))\n",
    "\n",
    "    return L"
   ]
  },
  {
   "cell_type": "markdown",
   "metadata": {},
   "source": [
    "## Back Propagation to the Last Layer\n",
    "\n",
    "And at the same time Sigmoid function, it can be proven that the derivative of the loss   function with respect to $Z$ is equal to $A^{[2]} - Y$  \n",
    "$$ dZ^{[2]} = \\frac{\\partial C}{\\partial Z} = \\frac{\\partial C}{\\partial A^{[2]}}   \\frac{\\partial A^{[2]}}{\\partial Z^{[2]}} = A^{[2]} - Y$$  \n",
    "And $dW^{[2]}$ is always equal to the  $dZ^{[l]}$ multiplied by $A^{[l-1]}$  \n",
    "\n",
    "$$dW^{[2]} = \\frac{1}{m}dZ^{[2]}*A^{[1]} $$\n",
    "\n",
    "Finally we need to culculate the gradient of bias:\n",
    "\n",
    "$$db^{[1]} = \\frac{1}{m} np.sum(dZ^{[1]},axis=0,keepdims=True)$$"
   ]
  },
  {
   "cell_type": "code",
   "execution_count": 62,
   "metadata": {
    "collapsed": true
   },
   "outputs": [],
   "source": [
    "def BackPropagation_Last_Layer(Y,A2,A1):\n",
    "    \n",
    "    dZ2 = A2-Y\n",
    "    dW2 = (1./m) * np.matmul(dZ2, A1.T)\n",
    "    db2 = (1./m) * np.sum(dZ2, axis=1, keepdims=True)\n",
    "    \n",
    "    return dZ2,dW2,db2"
   ]
  },
  {
   "cell_type": "markdown",
   "metadata": {},
   "source": [
    "## Back Propagation for every other layer\n",
    "\n",
    "Now that we culculated the gradient of the second layer we can go to the first layer, and this is why we call this process back propagation, it is neccessary to go from the end to the start of your neural network in order to culculate all the different gradients.\n",
    "\n",
    "We need to performe the same steps like the previus layer, first we will culculate the $dZ$ and then the $dW$.\n",
    "\n",
    "We can prove that $dZ$ is equal to:\n",
    "$$dZ^{[1]} = dZ^{[2]}W^{[2]}*g^{ '[1]}(Z^{[1]})$$\n",
    "\n",
    "\n",
    "$dZ^{[2]}$ and $W^{[2]}$ make an array multiplication in contrast to the $g^{ '[1]}(Z^{[1]})$ that make an element wise multiplication.\n",
    "Algo $g$ is the activation function that is been used in the first layer, in this particular example we use a sigmoid function.\n",
    "\n",
    "$$\\sigma^{'}(Z^{[1]}) = \\sigma(Z^{[1]})(1-\\sigma(Z^{[1]})) =\\frac{ - \\epsilon^{-Z^{[1]}}}{(1+\\epsilon^{-Z^{[1]}})^2}$$\n",
    "\n",
    "The $dW$ remains the same:\n",
    "$$dW^{[1]} = dZ^{[1]}X$$\n",
    "\n",
    "Finally we need to culculate the gradient of bias:\n",
    "\n",
    "$$db^{[1]} = \\frac{1}{m} np.sum(dZ^{[1]},axis=0,keepdims=True)$$"
   ]
  },
  {
   "cell_type": "code",
   "execution_count": 63,
   "metadata": {
    "collapsed": true
   },
   "outputs": [],
   "source": [
    "def BackPropagation_Other_Layers(X,dZ2,W2,Z1):\n",
    "    \n",
    "    dA1 = np.matmul(W2.T, dZ2)\n",
    "    dZ1 = dA1 * sigmoid(Z1) * (1 - sigmoid(Z1))\n",
    "    \n",
    "    dW1 = (1./m) * np.matmul(dZ1, X.T)\n",
    "    \n",
    "    db1 = (1./m) * np.sum(dZ1, axis=1, keepdims=True)\n",
    "    \n",
    "    return dZ1,dW1,db1"
   ]
  },
  {
   "cell_type": "markdown",
   "metadata": {},
   "source": [
    "# Update the Weights"
   ]
  },
  {
   "cell_type": "code",
   "execution_count": 70,
   "metadata": {},
   "outputs": [],
   "source": [
    "def Next_Weights(W,b,learning_rate,dW,db):\n",
    "    \n",
    "    W = W - learning_rate * (dW+(lambda1/m)*W)\n",
    "    b = b - learning_rate * db\n",
    "    \n",
    "    return W,b"
   ]
  },
  {
   "cell_type": "markdown",
   "metadata": {},
   "source": [
    "## Building the Artificial Neural Network (ANN) - Combining the Functions\n",
    "\n"
   ]
  },
  {
   "cell_type": "code",
   "execution_count": 71,
   "metadata": {
    "scrolled": false
   },
   "outputs": [
    {
     "name": "stderr",
     "output_type": "stream",
     "text": [
      "C:\\Users\\milto\\Anaconda3\\lib\\site-packages\\ipykernel_launcher.py:2: RuntimeWarning: overflow encountered in exp\n",
      "  \n"
     ]
    },
    {
     "name": "stdout",
     "output_type": "stream",
     "text": [
      "[ 1.20945125]\n",
      "[ 0.89256183]\n",
      "[ 0.64558375]\n",
      "[ 0.59054245]\n",
      "[ 0.48634918]\n",
      "[ 0.46591925]\n",
      "[ 0.4352907]\n",
      "[ 0.39457839]\n",
      "[ 0.35161468]\n",
      "[ 0.34887026]\n",
      "[ 0.34004764]\n",
      "[ 0.32855789]\n",
      "[ 0.28703333]\n",
      "[ 0.28813845]\n",
      "[ 0.28202847]\n",
      "[ 0.30421509]\n",
      "[ 0.28311062]\n",
      "[ 0.29506638]\n",
      "[ 0.29291045]\n",
      "[ 0.3386613]\n",
      "[ 0.26911342]\n",
      "[ 0.31575146]\n",
      "[ 0.30157751]\n",
      "[ 0.27519407]\n",
      "[ 0.29690439]\n",
      "[ 0.28008465]\n",
      "[ 0.27697502]\n",
      "[ 0.29448774]\n",
      "[ 0.29569285]\n"
     ]
    },
    {
     "ename": "KeyboardInterrupt",
     "evalue": "",
     "output_type": "error",
     "traceback": [
      "\u001b[1;31m---------------------------------------------------------------------------\u001b[0m",
      "\u001b[1;31mKeyboardInterrupt\u001b[0m                         Traceback (most recent call last)",
      "\u001b[1;32m<ipython-input-71-032a79f08c25>\u001b[0m in \u001b[0;36m<module>\u001b[1;34m()\u001b[0m\n\u001b[0;32m     41\u001b[0m     \u001b[0mdZ3\u001b[0m\u001b[1;33m,\u001b[0m\u001b[0mdW3\u001b[0m\u001b[1;33m,\u001b[0m\u001b[0mdb3\u001b[0m \u001b[1;33m=\u001b[0m \u001b[0mBackPropagation_Last_Layer\u001b[0m\u001b[1;33m(\u001b[0m\u001b[0mY\u001b[0m\u001b[1;33m,\u001b[0m\u001b[0mA3\u001b[0m\u001b[1;33m,\u001b[0m\u001b[0mA2\u001b[0m\u001b[1;33m)\u001b[0m\u001b[1;33m\u001b[0m\u001b[0m\n\u001b[0;32m     42\u001b[0m     \u001b[0mdZ2\u001b[0m\u001b[1;33m,\u001b[0m\u001b[0mdW2\u001b[0m\u001b[1;33m,\u001b[0m\u001b[0mdb2\u001b[0m \u001b[1;33m=\u001b[0m \u001b[0mBackPropagation_Other_Layers\u001b[0m\u001b[1;33m(\u001b[0m\u001b[0mA1\u001b[0m\u001b[1;33m,\u001b[0m\u001b[0mdZ3\u001b[0m\u001b[1;33m,\u001b[0m\u001b[0mW3\u001b[0m\u001b[1;33m,\u001b[0m\u001b[0mZ2\u001b[0m\u001b[1;33m)\u001b[0m\u001b[1;33m\u001b[0m\u001b[0m\n\u001b[1;32m---> 43\u001b[1;33m     \u001b[0mdZ1\u001b[0m\u001b[1;33m,\u001b[0m\u001b[0mdW1\u001b[0m\u001b[1;33m,\u001b[0m\u001b[0mdb1\u001b[0m \u001b[1;33m=\u001b[0m \u001b[0mBackPropagation_Other_Layers\u001b[0m\u001b[1;33m(\u001b[0m\u001b[0mX\u001b[0m\u001b[1;33m,\u001b[0m\u001b[0mdZ2\u001b[0m\u001b[1;33m,\u001b[0m\u001b[0mW2\u001b[0m\u001b[1;33m,\u001b[0m\u001b[0mZ1\u001b[0m\u001b[1;33m)\u001b[0m\u001b[1;33m\u001b[0m\u001b[0m\n\u001b[0m\u001b[0;32m     44\u001b[0m \u001b[1;33m\u001b[0m\u001b[0m\n\u001b[0;32m     45\u001b[0m \u001b[1;33m\u001b[0m\u001b[0m\n",
      "\u001b[1;32m<ipython-input-63-dbb289ae16d7>\u001b[0m in \u001b[0;36mBackPropagation_Other_Layers\u001b[1;34m(X, dZ2, W2, Z1)\u001b[0m\n\u001b[0;32m      4\u001b[0m     \u001b[0mdZ1\u001b[0m \u001b[1;33m=\u001b[0m \u001b[0mdA1\u001b[0m \u001b[1;33m*\u001b[0m \u001b[0msigmoid\u001b[0m\u001b[1;33m(\u001b[0m\u001b[0mZ1\u001b[0m\u001b[1;33m)\u001b[0m \u001b[1;33m*\u001b[0m \u001b[1;33m(\u001b[0m\u001b[1;36m1\u001b[0m \u001b[1;33m-\u001b[0m \u001b[0msigmoid\u001b[0m\u001b[1;33m(\u001b[0m\u001b[0mZ1\u001b[0m\u001b[1;33m)\u001b[0m\u001b[1;33m)\u001b[0m\u001b[1;33m\u001b[0m\u001b[0m\n\u001b[0;32m      5\u001b[0m \u001b[1;33m\u001b[0m\u001b[0m\n\u001b[1;32m----> 6\u001b[1;33m     \u001b[0mdW1\u001b[0m \u001b[1;33m=\u001b[0m \u001b[1;33m(\u001b[0m\u001b[1;36m1.\u001b[0m\u001b[1;33m/\u001b[0m\u001b[0mm\u001b[0m\u001b[1;33m)\u001b[0m \u001b[1;33m*\u001b[0m \u001b[0mnp\u001b[0m\u001b[1;33m.\u001b[0m\u001b[0mmatmul\u001b[0m\u001b[1;33m(\u001b[0m\u001b[0mdZ1\u001b[0m\u001b[1;33m,\u001b[0m \u001b[0mX\u001b[0m\u001b[1;33m.\u001b[0m\u001b[0mT\u001b[0m\u001b[1;33m)\u001b[0m\u001b[1;33m\u001b[0m\u001b[0m\n\u001b[0m\u001b[0;32m      7\u001b[0m \u001b[1;33m\u001b[0m\u001b[0m\n\u001b[0;32m      8\u001b[0m     \u001b[0mdb1\u001b[0m \u001b[1;33m=\u001b[0m \u001b[1;33m(\u001b[0m\u001b[1;36m1.\u001b[0m\u001b[1;33m/\u001b[0m\u001b[0mm\u001b[0m\u001b[1;33m)\u001b[0m \u001b[1;33m*\u001b[0m \u001b[0mnp\u001b[0m\u001b[1;33m.\u001b[0m\u001b[0msum\u001b[0m\u001b[1;33m(\u001b[0m\u001b[0mdZ1\u001b[0m\u001b[1;33m,\u001b[0m \u001b[0maxis\u001b[0m\u001b[1;33m=\u001b[0m\u001b[1;36m1\u001b[0m\u001b[1;33m,\u001b[0m \u001b[0mkeepdims\u001b[0m\u001b[1;33m=\u001b[0m\u001b[1;32mTrue\u001b[0m\u001b[1;33m)\u001b[0m\u001b[1;33m\u001b[0m\u001b[0m\n",
      "\u001b[1;31mKeyboardInterrupt\u001b[0m: "
     ]
    }
   ],
   "source": [
    "\n",
    "X_train = Tr_Im\n",
    "Y_train = Ytr\n",
    "\n",
    "\n",
    "n_x = Tr_Im.shape[0]\n",
    "n_h1 = 64\n",
    "n_h2 = 30\n",
    "digits = 10\n",
    "\n",
    "learning_rate = 0.5\n",
    "\n",
    "W1 = np.random.randn(n_h1, n_x)\n",
    "b1 = np.zeros((n_h1, 1))\n",
    "W2 = np.random.randn(n_h2, n_h1)\n",
    "b2 = np.zeros((n_h2, 1))\n",
    "W3 = np.random.randn(digits, n_h2)\n",
    "b3 = np.zeros((digits, 1))\n",
    "\n",
    "\n",
    "C=np.zeros((10000,1))\n",
    "\n",
    "Point = 0\n",
    "\n",
    "for i in range(0,10000):\n",
    "    \n",
    "    temp = Point+Batch\n",
    "    \n",
    "    X = X_train[:,Point:temp]\n",
    "    Y = Y_train[:,Point:temp]\n",
    "    \n",
    "    \n",
    "    A1,Z1 = Forward_Propagation(X,W1,b1)\n",
    "    A2,Z2 = Forward_Propagation(A1,W2,b2)\n",
    "    A3,Z3 = Forward_Propagation_SoftMax(A2,W3,b3)\n",
    "    \n",
    "    \n",
    "    C[i] = compute_multiclass_loss(Y, A3,W3,b3)\n",
    "    \n",
    "    \n",
    "    dZ3,dW3,db3 = BackPropagation_Last_Layer(Y,A3,A2)\n",
    "    dZ2,dW2,db2 = BackPropagation_Other_Layers(A1,dZ3,W3,Z2)\n",
    "    dZ1,dW1,db1 = BackPropagation_Other_Layers(X,dZ2,W2,Z1)\n",
    "    \n",
    "\n",
    "    W3,b3 = Next_Weights(W3,b3,learning_rate,dW3,db3)\n",
    "    W2,b2 = Next_Weights(W2,b2,learning_rate,dW2,db2)\n",
    "    W1,b1 = Next_Weights(W1,b1,learning_rate,dW1,db1)\n",
    "    \n",
    "    Point=Point+Batch\n",
    "    if (Point+Batch>60000):\n",
    "        Point=0;\n",
    "        print(C[i])\n",
    "        \n",
    "    \n",
    "\n"
   ]
  },
  {
   "cell_type": "code",
   "execution_count": 72,
   "metadata": {
    "scrolled": true
   },
   "outputs": [
    {
     "data": {
      "image/png": "[encoded data removed]",
      "text/plain": [
       "<matplotlib.figure.Figure at 0x209015451d0>"
      ]
     },
     "metadata": {},
     "output_type": "display_data"
    }
   ],
   "source": [
    "plt.plot(C[1:i])\n",
    "plt.show()"
   ]
  },
  {
   "cell_type": "code",
   "execution_count": 73,
   "metadata": {},
   "outputs": [
    {
     "name": "stderr",
     "output_type": "stream",
     "text": [
      "C:\\Users\\milto\\Anaconda3\\lib\\site-packages\\ipykernel_launcher.py:2: RuntimeWarning: overflow encountered in exp\n",
      "  \n"
     ]
    },
    {
     "name": "stdout",
     "output_type": "stream",
     "text": [
      "[  9.91168147e-03   1.46113403e-02   7.09025972e-02   8.70396403e-01\n",
      "   6.64101143e-04   4.78003993e-03   8.31143620e-04   5.12466304e-03\n",
      "   1.77611111e-02   5.01691942e-03]\n",
      "1.0\n",
      "[ 0.  0.  0.  1.  0.  0.  0.  0.  0.  0.]\n",
      "3\n",
      "3\n"
     ]
    },
    {
     "data": {
      "image/png": "[encoded data removed]",
      "text/plain": [
       "<matplotlib.figure.Figure at 0x209015a5320>"
      ]
     },
     "metadata": {},
     "output_type": "display_data"
    }
   ],
   "source": [
    "Z1 = np.matmul(W1, X_train) + b1\n",
    "A1 = sigmoid(Z1)\n",
    "Z2 = np.matmul(W2, A1) + b2\n",
    "A2 = sigmoid(Z2)\n",
    "Z3 = np.matmul(W3, A2) + b3\n",
    "A3 = np.exp(Z3) / np.sum(np.exp(Z3), axis=0)\n",
    "    \n",
    "    \n",
    "idx=10\n",
    "print(A3[:,idx])\n",
    "print(sum(A3[:,idx])) # Because A2 is the propability to be something and the sumation of this propabilities is equal to 1\n",
    "print(Y_train[:,idx])\n",
    "\n",
    "print(np.argmax(A3[:,idx]))\n",
    "print(np.argmax(Y_train[:,idx]))\n",
    "imgplot = plt.imshow(train_images[idx,:,:], cmap = 'gray')\n",
    "plt.show()"
   ]
  },
  {
   "cell_type": "code",
   "execution_count": 74,
   "metadata": {},
   "outputs": [
    {
     "name": "stdout",
     "output_type": "stream",
     "text": [
      "60000\n",
      "53113\n",
      "Persentage of correct answeres in the Training Set 88.52166666666666\n"
     ]
    }
   ],
   "source": [
    "import time\n",
    "\n",
    "#print(m)\n",
    "count = 0\n",
    "\n",
    "Nn=A2.shape[1]\n",
    "print(Nn)\n",
    "\n",
    "for i in range(Nn):\n",
    "    if (np.argmax(A3[:,i])==np.argmax(Y_train[:,i])):\n",
    "        count=count+1\n",
    "    #else:\n",
    "        #imgplot = plt.imshow(train_images[i,:,:], cmap = 'gray')\n",
    "        #plt.show()\n",
    "        #print(np.argmax(A2[:,i]))\n",
    "        #time.sleep(1)\n",
    "     \n",
    "print(count)\n",
    "print(\"Persentage of correct answeres in the Training Set\", (count/Nn)*100)"
   ]
  },
  {
   "cell_type": "markdown",
   "metadata": {},
   "source": [
    "# Test Images\n",
    "\n",
    "These are images that where never tested or trained before in this model, so we can observe how whele our model can generalize"
   ]
  },
  {
   "cell_type": "code",
   "execution_count": 75,
   "metadata": {},
   "outputs": [
    {
     "name": "stdout",
     "output_type": "stream",
     "text": [
      "(10000, 28, 28)\n",
      "(784, 10000)\n",
      "[[ 0.  0.  0.  1.  0.]\n",
      " [ 0.  0.  1.  0.  0.]\n",
      " [ 0.  1.  0.  0.  0.]\n",
      " [ 0.  0.  0.  0.  0.]\n",
      " [ 0.  0.  0.  0.  1.]\n",
      " [ 0.  0.  0.  0.  0.]\n",
      " [ 0.  0.  0.  0.  0.]\n",
      " [ 1.  0.  0.  0.  0.]\n",
      " [ 0.  0.  0.  0.  0.]\n",
      " [ 0.  0.  0.  0.  0.]]\n",
      "(10, 10000)\n"
     ]
    }
   ],
   "source": [
    "print(test_images.shape)\n",
    "num_Imag = test_images.shape[0]\n",
    "nH = test_images.shape[1]\n",
    "nW = test_images.shape[2]\n",
    "Tr_Im = test_images.reshape((num_Imag,nH*nW))\n",
    "Tr_Im = np.transpose(Tr_Im)\n",
    "print(Tr_Im.shape)\n",
    "\n",
    "Ytr = HotVector(test_labels,n_labels)"
   ]
  },
  {
   "cell_type": "code",
   "execution_count": 76,
   "metadata": {},
   "outputs": [
    {
     "name": "stdout",
     "output_type": "stream",
     "text": [
      "[  9.10477300e-03   3.22310791e-03   3.41284046e-03   6.34901164e-02\n",
      "   3.83313376e-02   8.39847578e-03   2.27194535e-04   6.37431148e-01\n",
      "   2.45843629e-03   2.33922570e-01]\n",
      "1.0\n",
      "[ 0.  0.  0.  0.  0.  0.  0.  0.  0.  1.]\n",
      "7\n",
      "9\n"
     ]
    },
    {
     "name": "stderr",
     "output_type": "stream",
     "text": [
      "C:\\Users\\milto\\Anaconda3\\lib\\site-packages\\ipykernel_launcher.py:2: RuntimeWarning: overflow encountered in exp\n",
      "  \n"
     ]
    },
    {
     "data": {
      "image/png": "[encoded data removed]",
      "text/plain": [
       "<matplotlib.figure.Figure at 0x209015eb1d0>"
      ]
     },
     "metadata": {},
     "output_type": "display_data"
    }
   ],
   "source": [
    "Z1 = np.matmul(W1, Tr_Im) + b1\n",
    "A1 = sigmoid(Z1)\n",
    "Z2 = np.matmul(W2, A1) + b2\n",
    "A2 = sigmoid(Z2)\n",
    "Z3 = np.matmul(W3, A2) + b3\n",
    "A3 = np.exp(Z3) / np.sum(np.exp(Z3), axis=0)\n",
    "    \n",
    "    \n",
    "idx=20\n",
    "print(A3[:,idx])\n",
    "print(sum(A3[:,idx])) # Because A2 is the propability to be something and the sumation of this propabilities is equal to 1\n",
    "print(Ytr[:,idx])\n",
    "\n",
    "print(np.argmax(A3[:,idx]))\n",
    "print(np.argmax(Ytr[:,idx]))\n",
    "imgplot = plt.imshow(train_images[idx,:,:], cmap = 'gray')\n",
    "plt.show()"
   ]
  },
  {
   "cell_type": "code",
   "execution_count": 77,
   "metadata": {},
   "outputs": [
    {
     "name": "stdout",
     "output_type": "stream",
     "text": [
      "10000\n",
      "8902\n",
      "Persentage of correct answeres in the Test Set 89.02\n"
     ]
    }
   ],
   "source": [
    "import time\n",
    "\n",
    "#print(m)\n",
    "count = 0\n",
    "\n",
    "Nn=A2.shape[1]\n",
    "print(Nn)\n",
    "\n",
    "for i in range(Nn):\n",
    "    if (np.argmax(A3[:,i])==np.argmax(Ytr[:,i])):\n",
    "        count=count+1\n",
    "    #else:\n",
    "        #imgplot = plt.imshow(train_images[i,:,:], cmap = 'gray')\n",
    "        #plt.show()\n",
    "        #print(np.argmax(A2[:,i]))\n",
    "        #time.sleep(1)\n",
    "     \n",
    "print(count)\n",
    "print(\"Persentage of correct answeres in the Test Set\", (count/Nn)*100)"
   ]
  },
  {
   "cell_type": "code",
   "execution_count": null,
   "metadata": {
    "collapsed": true
   },
   "outputs": [],
   "source": []
  }
 ],
 "metadata": {
  "kernelspec": {
   "display_name": "Python 3",
   "language": "python",
   "name": "python3"
  },
  "language_info": {
   "codemirror_mode": {
    "name": "ipython",
    "version": 3
   },
   "file_extension": ".py",
   "mimetype": "text/x-python",
   "name": "python",
   "nbconvert_exporter": "python",
   "pygments_lexer": "ipython3",
   "version": "3.6.6"
  }
 },
 "nbformat": 4,
 "nbformat_minor": 2
}
